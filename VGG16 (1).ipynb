{
  "nbformat": 4,
  "nbformat_minor": 0,
  "metadata": {
    "colab": {
      "provenance": [],
      "gpuType": "T4"
    },
    "kernelspec": {
      "name": "python3",
      "display_name": "Python 3"
    },
    "language_info": {
      "name": "python"
    },
    "accelerator": "GPU"
  },
  "cells": [
    {
      "cell_type": "code",
      "execution_count": null,
      "metadata": {
        "id": "BaT45r39jv0g"
      },
      "outputs": [],
      "source": [
        "import numpy as np\n",
        "import pandas as pd\n",
        "from PIL import Image\n",
        "import numpy as np\n",
        "import matplotlib.pyplot as plt\n",
        "import tensorflow as tf\n",
        "from tensorflow.keras import Sequential\n",
        "from tensorflow.keras.layers import Conv2D, Activation, MaxPool2D, BatchNormalization, Flatten, Dense, Dropout\n",
        "from tensorflow.keras.regularizers import l2\n",
        "from tensorflow.keras.callbacks import ReduceLROnPlateau\n",
        "from tensorflow.keras.optimizers import SGD\n",
        "from keras.preprocessing.image import ImageDataGenerator\n",
        "from keras.applications.vgg16 import preprocess_input\n",
        "from keras.layers import Dense\n",
        "from keras.models import Sequential\n",
        "from keras.applications.vgg16 import VGG16\n",
        "from glob import glob\n",
        "import cv2\n",
        "import os"
      ]
    },
    {
      "cell_type": "code",
      "source": [
        "from google.colab import drive\n",
        "drive.mount('/content/drive')"
      ],
      "metadata": {
        "colab": {
          "base_uri": "https://localhost:8080/"
        },
        "id": "WKbe4hCTkyKu",
        "outputId": "3162d4fc-8041-4e49-85b6-388343913a8f"
      },
      "execution_count": null,
      "outputs": [
        {
          "output_type": "stream",
          "name": "stdout",
          "text": [
            "Drive already mounted at /content/drive; to attempt to forcibly remount, call drive.mount(\"/content/drive\", force_remount=True).\n"
          ]
        }
      ]
    },
    {
      "cell_type": "code",
      "source": [
        "training_dir = '/content/drive/MyDrive/PDI_CNN_NORMAL/train/'\n",
        "validation_dir = '/content/drive/MyDrive/PDI_CNN_NORMAL/test/'\n",
        "#test_dir = '/content/drive/MyDrive/IMAGENES_PROYECTO_PDI/test/'"
      ],
      "metadata": {
        "id": "dPkQpiQtkq9P"
      },
      "execution_count": null,
      "outputs": []
    },
    {
      "cell_type": "code",
      "source": [
        "print(len(next(os.walk(training_dir))[1]))"
      ],
      "metadata": {
        "colab": {
          "base_uri": "https://localhost:8080/"
        },
        "id": "bBnDotcxlRZU",
        "outputId": "ad2d4e5a-8cde-4918-b326-e228336185d1"
      },
      "execution_count": null,
      "outputs": [
        {
          "output_type": "stream",
          "name": "stdout",
          "text": [
            "2\n"
          ]
        }
      ]
    },
    {
      "cell_type": "code",
      "source": [
        "my_list = os.listdir(training_dir)\n",
        "print(my_list)"
      ],
      "metadata": {
        "colab": {
          "base_uri": "https://localhost:8080/"
        },
        "id": "8P33yfxblVl-",
        "outputId": "90d9b538-d6da-481e-b31e-0cc4beedadf0"
      },
      "execution_count": null,
      "outputs": [
        {
          "output_type": "stream",
          "name": "stdout",
          "text": [
            "['manzana', 'banano']\n"
          ]
        }
      ]
    },
    {
      "cell_type": "code",
      "source": [
        "vgg = VGG16()"
      ],
      "metadata": {
        "id": "O5W4TBqIlZ3o"
      },
      "execution_count": null,
      "outputs": []
    },
    {
      "cell_type": "code",
      "source": [
        "print(vgg.summary())"
      ],
      "metadata": {
        "colab": {
          "base_uri": "https://localhost:8080/"
        },
        "id": "I6jXv9ZSl3ju",
        "outputId": "525c3c7f-455e-4b8f-8da4-e2087d6e33fc"
      },
      "execution_count": null,
      "outputs": [
        {
          "output_type": "stream",
          "name": "stdout",
          "text": [
            "Model: \"vgg16\"\n",
            "_________________________________________________________________\n",
            " Layer (type)                Output Shape              Param #   \n",
            "=================================================================\n",
            " input_5 (InputLayer)        [(None, 224, 224, 3)]     0         \n",
            "                                                                 \n",
            " block1_conv1 (Conv2D)       (None, 224, 224, 64)      1792      \n",
            "                                                                 \n",
            " block1_conv2 (Conv2D)       (None, 224, 224, 64)      36928     \n",
            "                                                                 \n",
            " block1_pool (MaxPooling2D)  (None, 112, 112, 64)      0         \n",
            "                                                                 \n",
            " block2_conv1 (Conv2D)       (None, 112, 112, 128)     73856     \n",
            "                                                                 \n",
            " block2_conv2 (Conv2D)       (None, 112, 112, 128)     147584    \n",
            "                                                                 \n",
            " block2_pool (MaxPooling2D)  (None, 56, 56, 128)       0         \n",
            "                                                                 \n",
            " block3_conv1 (Conv2D)       (None, 56, 56, 256)       295168    \n",
            "                                                                 \n",
            " block3_conv2 (Conv2D)       (None, 56, 56, 256)       590080    \n",
            "                                                                 \n",
            " block3_conv3 (Conv2D)       (None, 56, 56, 256)       590080    \n",
            "                                                                 \n",
            " block3_pool (MaxPooling2D)  (None, 28, 28, 256)       0         \n",
            "                                                                 \n",
            " block4_conv1 (Conv2D)       (None, 28, 28, 512)       1180160   \n",
            "                                                                 \n",
            " block4_conv2 (Conv2D)       (None, 28, 28, 512)       2359808   \n",
            "                                                                 \n",
            " block4_conv3 (Conv2D)       (None, 28, 28, 512)       2359808   \n",
            "                                                                 \n",
            " block4_pool (MaxPooling2D)  (None, 14, 14, 512)       0         \n",
            "                                                                 \n",
            " block5_conv1 (Conv2D)       (None, 14, 14, 512)       2359808   \n",
            "                                                                 \n",
            " block5_conv2 (Conv2D)       (None, 14, 14, 512)       2359808   \n",
            "                                                                 \n",
            " block5_conv3 (Conv2D)       (None, 14, 14, 512)       2359808   \n",
            "                                                                 \n",
            " block5_pool (MaxPooling2D)  (None, 7, 7, 512)         0         \n",
            "                                                                 \n",
            " flatten (Flatten)           (None, 25088)             0         \n",
            "                                                                 \n",
            " fc1 (Dense)                 (None, 4096)              102764544 \n",
            "                                                                 \n",
            " fc2 (Dense)                 (None, 4096)              16781312  \n",
            "                                                                 \n",
            " predictions (Dense)         (None, 1000)              4097000   \n",
            "                                                                 \n",
            "=================================================================\n",
            "Total params: 138357544 (527.79 MB)\n",
            "Trainable params: 138357544 (527.79 MB)\n",
            "Non-trainable params: 0 (0.00 Byte)\n",
            "_________________________________________________________________\n",
            "None\n"
          ]
        }
      ]
    },
    {
      "cell_type": "code",
      "source": [
        "vgg_layer_list = vgg.layers\n",
        "print(len(vgg_layer_list))"
      ],
      "metadata": {
        "colab": {
          "base_uri": "https://localhost:8080/"
        },
        "id": "bRvG2Qfll6YR",
        "outputId": "76596482-e189-4ec0-f9d5-b10027029b61"
      },
      "execution_count": null,
      "outputs": [
        {
          "output_type": "stream",
          "name": "stdout",
          "text": [
            "23\n"
          ]
        }
      ]
    },
    {
      "cell_type": "code",
      "source": [
        "model = Sequential()\n",
        "for i in range(len(vgg_layer_list)-1):\n",
        "    model.add(vgg_layer_list[i])\n",
        "    #model.add(Dropout(0.5))\n",
        "\n",
        "print(model.summary())"
      ],
      "metadata": {
        "colab": {
          "base_uri": "https://localhost:8080/"
        },
        "id": "9Ep2R25JmATe",
        "outputId": "8a623b10-fdc8-46d1-a5d1-5496e2481a13"
      },
      "execution_count": null,
      "outputs": [
        {
          "output_type": "stream",
          "name": "stdout",
          "text": [
            "Model: \"sequential_4\"\n",
            "_________________________________________________________________\n",
            " Layer (type)                Output Shape              Param #   \n",
            "=================================================================\n",
            " block1_conv1 (Conv2D)       (None, 224, 224, 64)      1792      \n",
            "                                                                 \n",
            " block1_conv2 (Conv2D)       (None, 224, 224, 64)      36928     \n",
            "                                                                 \n",
            " block1_pool (MaxPooling2D)  (None, 112, 112, 64)      0         \n",
            "                                                                 \n",
            " block2_conv1 (Conv2D)       (None, 112, 112, 128)     73856     \n",
            "                                                                 \n",
            " block2_conv2 (Conv2D)       (None, 112, 112, 128)     147584    \n",
            "                                                                 \n",
            " block2_pool (MaxPooling2D)  (None, 56, 56, 128)       0         \n",
            "                                                                 \n",
            " block3_conv1 (Conv2D)       (None, 56, 56, 256)       295168    \n",
            "                                                                 \n",
            " block3_conv2 (Conv2D)       (None, 56, 56, 256)       590080    \n",
            "                                                                 \n",
            " block3_conv3 (Conv2D)       (None, 56, 56, 256)       590080    \n",
            "                                                                 \n",
            " block3_pool (MaxPooling2D)  (None, 28, 28, 256)       0         \n",
            "                                                                 \n",
            " block4_conv1 (Conv2D)       (None, 28, 28, 512)       1180160   \n",
            "                                                                 \n",
            " block4_conv2 (Conv2D)       (None, 28, 28, 512)       2359808   \n",
            "                                                                 \n",
            " block4_conv3 (Conv2D)       (None, 28, 28, 512)       2359808   \n",
            "                                                                 \n",
            " block4_pool (MaxPooling2D)  (None, 14, 14, 512)       0         \n",
            "                                                                 \n",
            " block5_conv1 (Conv2D)       (None, 14, 14, 512)       2359808   \n",
            "                                                                 \n",
            " block5_conv2 (Conv2D)       (None, 14, 14, 512)       2359808   \n",
            "                                                                 \n",
            " block5_conv3 (Conv2D)       (None, 14, 14, 512)       2359808   \n",
            "                                                                 \n",
            " block5_pool (MaxPooling2D)  (None, 7, 7, 512)         0         \n",
            "                                                                 \n",
            " flatten (Flatten)           (None, 25088)             0         \n",
            "                                                                 \n",
            " fc1 (Dense)                 (None, 4096)              102764544 \n",
            "                                                                 \n",
            " fc2 (Dense)                 (None, 4096)              16781312  \n",
            "                                                                 \n",
            "=================================================================\n",
            "Total params: 134260544 (512.16 MB)\n",
            "Trainable params: 0 (0.00 Byte)\n",
            "Non-trainable params: 134260544 (512.16 MB)\n",
            "_________________________________________________________________\n",
            "None\n"
          ]
        }
      ]
    },
    {
      "cell_type": "code",
      "source": [
        "numberOfClass = 2\n",
        "\n",
        "for layers in model.layers:\n",
        "    layers.trainable = False\n",
        "\n",
        "model.add(Dense(numberOfClass,activation=\"softmax\"))\n",
        "print(model.summary())"
      ],
      "metadata": {
        "colab": {
          "base_uri": "https://localhost:8080/"
        },
        "id": "FKutTlHvmXYq",
        "outputId": "eb240242-64b4-4157-c2f6-8271d08a792f"
      },
      "execution_count": null,
      "outputs": [
        {
          "output_type": "stream",
          "name": "stdout",
          "text": [
            "Model: \"sequential_4\"\n",
            "_________________________________________________________________\n",
            " Layer (type)                Output Shape              Param #   \n",
            "=================================================================\n",
            " block1_conv1 (Conv2D)       (None, 224, 224, 64)      1792      \n",
            "                                                                 \n",
            " block1_conv2 (Conv2D)       (None, 224, 224, 64)      36928     \n",
            "                                                                 \n",
            " block1_pool (MaxPooling2D)  (None, 112, 112, 64)      0         \n",
            "                                                                 \n",
            " block2_conv1 (Conv2D)       (None, 112, 112, 128)     73856     \n",
            "                                                                 \n",
            " block2_conv2 (Conv2D)       (None, 112, 112, 128)     147584    \n",
            "                                                                 \n",
            " block2_pool (MaxPooling2D)  (None, 56, 56, 128)       0         \n",
            "                                                                 \n",
            " block3_conv1 (Conv2D)       (None, 56, 56, 256)       295168    \n",
            "                                                                 \n",
            " block3_conv2 (Conv2D)       (None, 56, 56, 256)       590080    \n",
            "                                                                 \n",
            " block3_conv3 (Conv2D)       (None, 56, 56, 256)       590080    \n",
            "                                                                 \n",
            " block3_pool (MaxPooling2D)  (None, 28, 28, 256)       0         \n",
            "                                                                 \n",
            " block4_conv1 (Conv2D)       (None, 28, 28, 512)       1180160   \n",
            "                                                                 \n",
            " block4_conv2 (Conv2D)       (None, 28, 28, 512)       2359808   \n",
            "                                                                 \n",
            " block4_conv3 (Conv2D)       (None, 28, 28, 512)       2359808   \n",
            "                                                                 \n",
            " block4_pool (MaxPooling2D)  (None, 14, 14, 512)       0         \n",
            "                                                                 \n",
            " block5_conv1 (Conv2D)       (None, 14, 14, 512)       2359808   \n",
            "                                                                 \n",
            " block5_conv2 (Conv2D)       (None, 14, 14, 512)       2359808   \n",
            "                                                                 \n",
            " block5_conv3 (Conv2D)       (None, 14, 14, 512)       2359808   \n",
            "                                                                 \n",
            " block5_pool (MaxPooling2D)  (None, 7, 7, 512)         0         \n",
            "                                                                 \n",
            " flatten (Flatten)           (None, 25088)             0         \n",
            "                                                                 \n",
            " fc1 (Dense)                 (None, 4096)              102764544 \n",
            "                                                                 \n",
            " fc2 (Dense)                 (None, 4096)              16781312  \n",
            "                                                                 \n",
            " dense_4 (Dense)             (None, 2)                 8194      \n",
            "                                                                 \n",
            "=================================================================\n",
            "Total params: 134268738 (512.19 MB)\n",
            "Trainable params: 8194 (32.01 KB)\n",
            "Non-trainable params: 134260544 (512.16 MB)\n",
            "_________________________________________________________________\n",
            "None\n"
          ]
        }
      ]
    },
    {
      "cell_type": "code",
      "source": [
        "model_layer_list = model.layers\n",
        "print(len(model_layer_list))"
      ],
      "metadata": {
        "colab": {
          "base_uri": "https://localhost:8080/"
        },
        "id": "6Vs7x-fym0hf",
        "outputId": "639b1f91-8e4d-4bba-8799-c86399ea2a89"
      },
      "execution_count": null,
      "outputs": [
        {
          "output_type": "stream",
          "name": "stdout",
          "text": [
            "22\n"
          ]
        }
      ]
    },
    {
      "cell_type": "code",
      "source": [
        "model.compile(loss=\"categorical_crossentropy\",\n",
        "             optimizer=\"rmsprop\",\n",
        "             metrics=[\"accuracy\"])\n",
        "\n",
        "train_data = ImageDataGenerator().flow_from_directory(training_dir,target_size=(224,224))\n",
        "\n",
        "test_data = ImageDataGenerator().flow_from_directory(validation_dir,target_size=(224,224))"
      ],
      "metadata": {
        "colab": {
          "base_uri": "https://localhost:8080/"
        },
        "id": "1spOkkMzm5ol",
        "outputId": "2f02e562-4586-4aaa-ba05-024efff591bc"
      },
      "execution_count": null,
      "outputs": [
        {
          "output_type": "stream",
          "name": "stdout",
          "text": [
            "Found 600 images belonging to 2 classes.\n",
            "Found 620 images belonging to 2 classes.\n"
          ]
        }
      ]
    },
    {
      "cell_type": "code",
      "source": [
        "batch_size=64\n",
        "hist = model.fit_generator(train_data,\n",
        "                           steps_per_epoch=1200//batch_size,\n",
        "                           epochs=10,\n",
        "                           validation_data=test_data,\n",
        "                           validation_steps=600//batch_size)"
      ],
      "metadata": {
        "colab": {
          "base_uri": "https://localhost:8080/"
        },
        "id": "NQgc6IVaopEr",
        "outputId": "a27c1379-fbeb-4bc2-86ca-d5a4c36300f9"
      },
      "execution_count": null,
      "outputs": [
        {
          "output_type": "stream",
          "name": "stderr",
          "text": [
            "<ipython-input-67-a42080663086>:2: UserWarning: `Model.fit_generator` is deprecated and will be removed in a future version. Please use `Model.fit`, which supports generators.\n",
            "  hist = model.fit_generator(train_data,\n"
          ]
        },
        {
          "output_type": "stream",
          "name": "stdout",
          "text": [
            "Epoch 1/10\n",
            "18/18 [==============================] - 108s 6s/step - loss: 0.3796 - accuracy: 0.9120 - val_loss: 0.0389 - val_accuracy: 0.9931\n",
            "Epoch 2/10\n",
            "18/18 [==============================] - 45s 3s/step - loss: 0.0443 - accuracy: 0.9824 - val_loss: 0.0403 - val_accuracy: 0.9931\n",
            "Epoch 3/10\n",
            "18/18 [==============================] - 40s 2s/step - loss: 0.0208 - accuracy: 0.9912 - val_loss: 0.0241 - val_accuracy: 0.9931\n",
            "Epoch 4/10\n",
            "18/18 [==============================] - 29s 2s/step - loss: 0.0033 - accuracy: 1.0000 - val_loss: 0.0380 - val_accuracy: 0.9931\n",
            "Epoch 5/10\n",
            "18/18 [==============================] - 30s 2s/step - loss: 0.0031 - accuracy: 1.0000 - val_loss: 0.0605 - val_accuracy: 0.9896\n",
            "Epoch 6/10\n",
            "18/18 [==============================] - 25s 1s/step - loss: 9.1969e-04 - accuracy: 1.0000 - val_loss: 0.0095 - val_accuracy: 0.9931\n",
            "Epoch 7/10\n",
            "18/18 [==============================] - 29s 2s/step - loss: 0.0082 - accuracy: 0.9965 - val_loss: 0.0219 - val_accuracy: 0.9931\n",
            "Epoch 8/10\n",
            "18/18 [==============================] - 26s 1s/step - loss: 3.5867e-04 - accuracy: 1.0000 - val_loss: 0.0042 - val_accuracy: 0.9965\n",
            "Epoch 9/10\n",
            "18/18 [==============================] - 26s 1s/step - loss: 2.7162e-04 - accuracy: 1.0000 - val_loss: 6.6296e-04 - val_accuracy: 1.0000\n",
            "Epoch 10/10\n",
            "18/18 [==============================] - 29s 2s/step - loss: 1.4200e-04 - accuracy: 1.0000 - val_loss: 0.0675 - val_accuracy: 0.9931\n"
          ]
        }
      ]
    },
    {
      "cell_type": "code",
      "source": [
        "plt.figure(figsize=(18,6))\n",
        "plt.plot(hist.history[\"accuracy\"],label=\"training accuracy\")\n",
        "plt.plot(hist.history[\"val_accuracy\"],label=\"validation accuracy\")\n",
        "plt.legend()\n",
        "plt.show();"
      ],
      "metadata": {
        "colab": {
          "base_uri": "https://localhost:8080/",
          "height": 401
        },
        "id": "EF9Oby3QsatI",
        "outputId": "9b141b30-b53c-493e-9004-433a2b02b257"
      },
      "execution_count": null,
      "outputs": [
        {
          "output_type": "display_data",
          "data": {
            "text/plain": [
              "<Figure size 1800x600 with 1 Axes>"
            ],
            "image/png": "[encoded data removed]"
          },
          "metadata": {}
        }
      ]
    },
    {
      "cell_type": "code",
      "source": [
        "plt.figure(figsize=(15,8))\n",
        "plt.plot(hist.history[\"loss\"],label=\"training loss\")\n",
        "plt.plot(hist.history[\"val_loss\"],label=\"validation loss\")\n",
        "plt.legend()\n",
        "plt.show();"
      ],
      "metadata": {
        "colab": {
          "base_uri": "https://localhost:8080/",
          "height": 613
        },
        "id": "P7X21TWIsmGo",
        "outputId": "6c23ddc9-5a85-48b7-c4bd-21f8f21b0e73"
      },
      "execution_count": null,
      "outputs": [
        {
          "output_type": "display_data",
          "data": {
            "text/plain": [
              "<Figure size 1500x800 with 1 Axes>"
            ],
            "image/png": "[encoded data removed]"
          },
          "metadata": {}
        }
      ]
    },
    {
      "cell_type": "code",
      "source": [
        "print(\"Model accuracy is: \",hist.history[\"accuracy\"][-1])"
      ],
      "metadata": {
        "colab": {
          "base_uri": "https://localhost:8080/"
        },
        "id": "WLEEhNE8svc5",
        "outputId": "2ecc90ac-53b1-4285-b158-437b56a29352"
      },
      "execution_count": null,
      "outputs": [
        {
          "output_type": "stream",
          "name": "stdout",
          "text": [
            "Model accuracy is:  1.0\n"
          ]
        }
      ]
    },
    {
      "cell_type": "code",
      "source": [
        "idx_to_name = {x:i for (x,i) in enumerate(train_data.class_indices)}\n",
        "\n",
        "def predict(img):\n",
        "    to_predict = np.zeros(shape=train_data[0][0].shape)\n",
        "    to_predict[0] = img\n",
        "\n",
        "    return idx_to_name[np.argmax(model(to_predict)[0])]"
      ],
      "metadata": {
        "id": "_Mm-_g16s5hJ"
      },
      "execution_count": null,
      "outputs": []
    },
    {
      "cell_type": "code",
      "source": [
        "prueba = cv2.imread(\"/content/manzana-royal.jpg\")"
      ],
      "metadata": {
        "id": "LOqGVuC8s71x"
      },
      "execution_count": null,
      "outputs": []
    },
    {
      "cell_type": "code",
      "source": [
        "resized = cv2.resize(prueba, (224,224), interpolation = cv2.INTER_AREA)"
      ],
      "metadata": {
        "id": "LL82B1-ntSH6"
      },
      "execution_count": null,
      "outputs": []
    },
    {
      "cell_type": "code",
      "source": [
        "#predict(resized)"
      ],
      "metadata": {
        "id": "QqbMekYdtajH"
      },
      "execution_count": null,
      "outputs": []
    },
    {
      "cell_type": "code",
      "source": [
        "prediction = predict(resized)\n",
        "print(\"Prediction:\", prediction)"
      ],
      "metadata": {
        "colab": {
          "base_uri": "https://localhost:8080/"
        },
        "id": "ADM11Tq2gTV2",
        "outputId": "48424216-da51-41c8-ed19-6f20147d6e7e"
      },
      "execution_count": null,
      "outputs": [
        {
          "output_type": "stream",
          "name": "stdout",
          "text": [
            "Prediction: manzana\n"
          ]
        }
      ]
    },
    {
      "cell_type": "code",
      "source": [
        "import itertools\n",
        "from sklearn.metrics import classification_report, confusion_matrix\n",
        "import matplotlib.pyplot as plt\n",
        "import numpy as np\n",
        "\n",
        "def calculate_metrics(model, test_data):\n",
        "    # Calculate precision, recall, F1-score, and confusion matrix\n",
        "    y_true = test_data.classes\n",
        "    y_pred = model.predict(test_data).argmax(axis=1)\n",
        "    class_names = list(test_data.class_indices.keys())\n",
        "\n",
        "    classification_metrics = classification_report(y_true, y_pred, target_names=class_names)\n",
        "    confusion_mat = confusion_matrix(y_true, y_pred)\n",
        "\n",
        "    print(\"Classification Metrics:\")\n",
        "    print(classification_metrics)\n",
        "\n",
        "    print(\"Confusion Matrix:\")\n",
        "    print(confusion_mat)\n",
        "\n",
        "    # Plot confusion matrix\n",
        "    plt.figure(figsize=(8, 6))\n",
        "    plt.imshow(confusion_mat, cmap='Blues')\n",
        "    plt.title('Confusion Matrix')\n",
        "    plt.colorbar()\n",
        "    tick_marks = np.arange(len(class_names))\n",
        "    plt.xticks(tick_marks, class_names, rotation=45)\n",
        "    plt.yticks(tick_marks, class_names)\n",
        "    plt.xlabel('Predicted Label')\n",
        "    plt.ylabel('True Label')\n",
        "\n",
        "    # Annotate each cell with the numeric value\n",
        "    thresh = confusion_mat.max() / 2.\n",
        "    for i, j in itertools.product(range(confusion_mat.shape[0]), range(confusion_mat.shape[1])):\n",
        "        plt.text(j, i, format(confusion_mat[i, j], 'd'),\n",
        "                 horizontalalignment=\"center\",\n",
        "                 color=\"white\" if confusion_mat[i, j] > thresh else \"black\")\n",
        "\n",
        "    plt.tight_layout()\n",
        "    plt.show()\n",
        "\n",
        "# Call the function with your model and test data\n",
        "calculate_metrics(model, test_data)\n"
      ],
      "metadata": {
        "colab": {
          "base_uri": "https://localhost:8080/",
          "height": 850
        },
        "id": "xUg1BO76lSN7",
        "outputId": "4c7f9b48-5e1d-40af-83ef-fbbb67eb1731"
      },
      "execution_count": null,
      "outputs": [
        {
          "output_type": "stream",
          "name": "stdout",
          "text": [
            "20/20 [==============================] - 9s 424ms/step\n",
            "Classification Metrics:\n",
            "              precision    recall  f1-score   support\n",
            "\n",
            "      banano       0.54      0.54      0.54       310\n",
            "     manzana       0.54      0.54      0.54       310\n",
            "\n",
            "    accuracy                           0.54       620\n",
            "   macro avg       0.54      0.54      0.54       620\n",
            "weighted avg       0.54      0.54      0.54       620\n",
            "\n",
            "Confusion Matrix:\n",
            "[[166 144]\n",
            " [144 166]]\n"
          ]
        },
        {
          "output_type": "display_data",
          "data": {
            "text/plain": [
              "<Figure size 800x600 with 2 Axes>"
            ],
            "image/png": "[encoded data removed]"
          },
          "metadata": {}
        }
      ]
    },
    {
      "cell_type": "code",
      "source": [
        "model.save_weights(\"/content/drive/MyDrive/PDI_CNN_NORMAL/fruits_model_pesos.h5\")"
      ],
      "metadata": {
        "id": "csfLWPr_eqBF"
      },
      "execution_count": null,
      "outputs": []
    },
    {
      "cell_type": "code",
      "source": [
        "model.save('/content/drive/MyDrive/PDI_CNN_NORMAL/fruits_model_1.h5')"
      ],
      "metadata": {
        "colab": {
          "base_uri": "https://localhost:8080/"
        },
        "id": "qohOuoDWxQAd",
        "outputId": "13ff885d-f548-43d2-ec0d-4fcfce82ed69"
      },
      "execution_count": null,
      "outputs": [
        {
          "output_type": "stream",
          "name": "stderr",
          "text": [
            "/usr/local/lib/python3.10/dist-packages/keras/src/engine/training.py:3079: UserWarning: You are saving your model as an HDF5 file via `model.save()`. This file format is considered legacy. We recommend using instead the native Keras format, e.g. `model.save('my_model.keras')`.\n",
            "  saving_api.save_model(\n"
          ]
        }
      ]
    },
    {
      "cell_type": "code",
      "source": [
        "model.save('/content/drive/MyDrive/PDI_CNN_NORMAL/mi_modelo.keras')"
      ],
      "metadata": {
        "id": "icCfy6KWx3Rj"
      },
      "execution_count": null,
      "outputs": []
    },
    {
      "cell_type": "code",
      "source": [
        "model.save('/content/drive/MyDrive/PDI_CNN_NORMAL/mi_modelo_vgg16.h5')\n"
      ],
      "metadata": {
        "colab": {
          "base_uri": "https://localhost:8080/"
        },
        "id": "tvyxFnNopWbq",
        "outputId": "d66cc83b-0b70-4d3a-9454-2fa7a30e2858"
      },
      "execution_count": null,
      "outputs": [
        {
          "output_type": "stream",
          "name": "stderr",
          "text": [
            "/usr/local/lib/python3.10/dist-packages/keras/src/engine/training.py:3079: UserWarning: You are saving your model as an HDF5 file via `model.save()`. This file format is considered legacy. We recommend using instead the native Keras format, e.g. `model.save('my_model.keras')`.\n",
            "  saving_api.save_model(\n"
          ]
        }
      ]
    },
    {
      "cell_type": "code",
      "source": [
        "from keras.models import load_model\n",
        "import cv2\n",
        "import numpy as np\n",
        "\n",
        "# Cargar el modelo guardado\n",
        "model = load_model('/content/drive/MyDrive/PDI_CNN_NORMAL/mi_modelo_vgg16.h5')\n",
        "\n",
        "# Preprocesamiento de la imagen para la predicción\n",
        "def preprocess_image(image_path):\n",
        "    img = cv2.imread(image_path)\n",
        "    img = cv2.resize(img, (224,224), interpolation = cv2.INTER_AREA)\n",
        "    img = np.expand_dims(img, axis=0)\n",
        "    return img\n",
        "\n",
        "# Función de predicción\n",
        "def predict(model, img):\n",
        "    img_array = preprocess_image(img)\n",
        "    predictions = model.predict(img_array)\n",
        "    idx = np.argmax(predictions)\n",
        "    return idx_to_name[idx]\n",
        "\n",
        "# Usar la función de predicción\n",
        "image_path = \"/content/21LOIB_ano.jpg\"\n",
        "prediction = predict(model, image_path)\n",
        "print(\"Prediction:\", prediction)\n"
      ],
      "metadata": {
        "colab": {
          "base_uri": "https://localhost:8080/"
        },
        "id": "V6fa3YG5pmIa",
        "outputId": "acdcdc52-5372-4bc4-cf9e-b03678ccffee"
      },
      "execution_count": null,
      "outputs": [
        {
          "output_type": "stream",
          "name": "stdout",
          "text": [
            "1/1 [==============================] - 0s 137ms/step\n",
            "Prediction: banano\n"
          ]
        }
      ]
    },
    {
      "cell_type": "code",
      "source": [
        "from keras.models import load_model\n",
        "import cv2\n",
        "import numpy as np\n",
        "\n",
        "# Cargar el modelo guardado\n",
        "model = load_model('/content/drive/MyDrive/PDI_CNN_NORMAL/mi_modelo_vgg16.h5')\n",
        "\n",
        "# Preprocesamiento de la imagen para la predicción\n",
        "def preprocess_image(image_path):\n",
        "    img = cv2.imread(image_path)\n",
        "    img = cv2.resize(img, (224,224), interpolation = cv2.INTER_AREA)\n",
        "    img = np.expand_dims(img, axis=0)\n",
        "    return img\n",
        "\n",
        "# Función de predicción\n",
        "def predict(model, img):\n",
        "    img_array = preprocess_image(img)\n",
        "    predictions = model.predict(img_array)\n",
        "    idx = np.argmax(predictions)\n",
        "    return idx  # Devuelve directamente el índice de la clase\n",
        "\n",
        "# Usar la función de predicción\n",
        "image_path = \"/content/manzana-royal.jpg\"\n",
        "class_index = predict(model, image_path)\n",
        "print(\"Índice de la clase predicha:\", class_index)\n"
      ],
      "metadata": {
        "id": "TMCB_6I3sJSU"
      },
      "execution_count": null,
      "outputs": []
    },
    {
      "cell_type": "code",
      "source": [
        "model.save_weights('/content/drive/MyDrive/PDI_CNN_NORMAL/mi_modelo_vgg16_pesos.h5')"
      ],
      "metadata": {
        "id": "cWfBscIgsaPs"
      },
      "execution_count": null,
      "outputs": []
    }
  ]
}